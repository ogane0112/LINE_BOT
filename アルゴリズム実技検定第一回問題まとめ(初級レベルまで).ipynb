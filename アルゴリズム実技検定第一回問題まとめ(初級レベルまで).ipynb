{
  "nbformat": 4,
  "nbformat_minor": 0,
  "metadata": {
    "colab": {
      "provenance": [],
      "toc_visible": true,
      "authorship_tag": "ABX9TyOiiheIJsp6uG6KVjAluseh",
      "include_colab_link": true
    },
    "kernelspec": {
      "name": "python3",
      "display_name": "Python 3"
    },
    "language_info": {
      "name": "python"
    }
  },
  "cells": [
    {
      "cell_type": "markdown",
      "metadata": {
        "id": "view-in-github",
        "colab_type": "text"
      },
      "source": [
        "<a href=\"https://colab.research.google.com/github/ogane0112/LINE_BOT/blob/main/%E3%82%A2%E3%83%AB%E3%82%B4%E3%83%AA%E3%82%BA%E3%83%A0%E5%AE%9F%E6%8A%80%E6%A4%9C%E5%AE%9A%E7%AC%AC%E4%B8%80%E5%9B%9E%E5%95%8F%E9%A1%8C%E3%81%BE%E3%81%A8%E3%82%81(%E5%88%9D%E7%B4%9A%E3%83%AC%E3%83%99%E3%83%AB%E3%81%BE%E3%81%A7).ipynb\" target=\"_parent\"><img src=\"https://colab.research.google.com/assets/colab-badge.svg\" alt=\"Open In Colab\"/></a>"
      ]
    },
    {
      "cell_type": "markdown",
      "source": [
        "## 第一回 A問題\n",
        "[問題へのリンク](https://atcoder.jp/contests/past201912-open/tasks/past201912_a)   \n",
        "この問題は単純にアルファベットがふくまれるのかの全探索で解くことができる"
      ],
      "metadata": {
        "id": "KP-8JQ6TVmk1"
      }
    },
    {
      "cell_type": "code",
      "execution_count": null,
      "metadata": {
        "id": "xk8crYw6VeUV",
        "colab": {
          "base_uri": "https://localhost:8080/"
        },
        "outputId": "b8fa1c89-2ecd-451e-be9b-201d51c272c1"
      },
      "outputs": [
        {
          "output_type": "stream",
          "name": "stdout",
          "text": [
            "123\n",
            "246\n"
          ]
        }
      ],
      "source": [
        "s = input()\n",
        "list_s=list(s)\n",
        "flag = True\n",
        "alphabet_lowercase = [chr(ord('a') + i) for i in range(26)]\n",
        "for i in range(len(list_s)):\n",
        "  for e in alphabet_lowercase:\n",
        "    if list_s[i]==e:\n",
        "      flag = False\n",
        "      break\n",
        "if flag:\n",
        "  num=int(s)\n",
        "  print(num*2)\n",
        "else:\n",
        "  print(\"error\")\n",
        "\n",
        "\n",
        "\n"
      ]
    },
    {
      "cell_type": "markdown",
      "source": [
        "## 第一回B問題  \n",
        "[問題へのリンク](https://atcoder.jp/contests/past201912-open/tasks/past201912_b)  \n",
        "\n"
      ],
      "metadata": {
        "id": "LfwNkwG4glbQ"
      }
    },
    {
      "cell_type": "code",
      "source": [
        "n = int(input())\n",
        "list_a = []\n",
        "\n",
        "# リストの要素を入力\n",
        "for i in range(n):\n",
        "    list_a.append(int(input()))\n",
        "\n",
        "# リストの要素を比較して出力\n",
        "for i in range(1, n):\n",
        "    if list_a[i - 1] == list_a[i]:\n",
        "        print(\"stay\")\n",
        "    elif list_a[i - 1] < list_a[i]:\n",
        "        a = list_a[i] - list_a[i - 1]\n",
        "        print(\"up \" + str(a))\n",
        "    elif list_a[i - 1] > list_a[i]:\n",
        "        a = list_a[i - 1] - list_a[i]\n",
        "        print(\"down \" + str(a))\n",
        "\n"
      ],
      "metadata": {
        "colab": {
          "base_uri": "https://localhost:8080/",
          "height": 405
        },
        "id": "zaR75GHenXYl",
        "outputId": "197413c6-a00c-4335-f99f-28fd7b452fac"
      },
      "execution_count": null,
      "outputs": [
        {
          "output_type": "error",
          "ename": "KeyboardInterrupt",
          "evalue": "ignored",
          "traceback": [
            "\u001b[0;31m---------------------------------------------------------------------------\u001b[0m",
            "\u001b[0;31mKeyboardInterrupt\u001b[0m                         Traceback (most recent call last)",
            "\u001b[0;32m<ipython-input-16-119a1cd13c48>\u001b[0m in \u001b[0;36m<cell line: 1>\u001b[0;34m()\u001b[0m\n\u001b[0;32m----> 1\u001b[0;31m \u001b[0mn\u001b[0m \u001b[0;34m=\u001b[0m \u001b[0mint\u001b[0m\u001b[0;34m(\u001b[0m\u001b[0minput\u001b[0m\u001b[0;34m(\u001b[0m\u001b[0;34m)\u001b[0m\u001b[0;34m)\u001b[0m\u001b[0;34m\u001b[0m\u001b[0;34m\u001b[0m\u001b[0m\n\u001b[0m\u001b[1;32m      2\u001b[0m \u001b[0mlist_a\u001b[0m \u001b[0;34m=\u001b[0m \u001b[0;34m[\u001b[0m\u001b[0;34m]\u001b[0m\u001b[0;34m\u001b[0m\u001b[0;34m\u001b[0m\u001b[0m\n\u001b[1;32m      3\u001b[0m \u001b[0;34m\u001b[0m\u001b[0m\n\u001b[1;32m      4\u001b[0m \u001b[0;31m# リストの要素を入力\u001b[0m\u001b[0;34m\u001b[0m\u001b[0;34m\u001b[0m\u001b[0m\n\u001b[1;32m      5\u001b[0m \u001b[0;32mfor\u001b[0m \u001b[0mi\u001b[0m \u001b[0;32min\u001b[0m \u001b[0mrange\u001b[0m\u001b[0;34m(\u001b[0m\u001b[0mn\u001b[0m\u001b[0;34m)\u001b[0m\u001b[0;34m:\u001b[0m\u001b[0;34m\u001b[0m\u001b[0;34m\u001b[0m\u001b[0m\n",
            "\u001b[0;32m/usr/local/lib/python3.10/dist-packages/ipykernel/kernelbase.py\u001b[0m in \u001b[0;36mraw_input\u001b[0;34m(self, prompt)\u001b[0m\n\u001b[1;32m    849\u001b[0m                 \u001b[0;34m\"raw_input was called, but this frontend does not support input requests.\"\u001b[0m\u001b[0;34m\u001b[0m\u001b[0;34m\u001b[0m\u001b[0m\n\u001b[1;32m    850\u001b[0m             )\n\u001b[0;32m--> 851\u001b[0;31m         return self._input_request(str(prompt),\n\u001b[0m\u001b[1;32m    852\u001b[0m             \u001b[0mself\u001b[0m\u001b[0;34m.\u001b[0m\u001b[0m_parent_ident\u001b[0m\u001b[0;34m,\u001b[0m\u001b[0;34m\u001b[0m\u001b[0;34m\u001b[0m\u001b[0m\n\u001b[1;32m    853\u001b[0m             \u001b[0mself\u001b[0m\u001b[0;34m.\u001b[0m\u001b[0m_parent_header\u001b[0m\u001b[0;34m,\u001b[0m\u001b[0;34m\u001b[0m\u001b[0;34m\u001b[0m\u001b[0m\n",
            "\u001b[0;32m/usr/local/lib/python3.10/dist-packages/ipykernel/kernelbase.py\u001b[0m in \u001b[0;36m_input_request\u001b[0;34m(self, prompt, ident, parent, password)\u001b[0m\n\u001b[1;32m    893\u001b[0m             \u001b[0;32mexcept\u001b[0m \u001b[0mKeyboardInterrupt\u001b[0m\u001b[0;34m:\u001b[0m\u001b[0;34m\u001b[0m\u001b[0;34m\u001b[0m\u001b[0m\n\u001b[1;32m    894\u001b[0m                 \u001b[0;31m# re-raise KeyboardInterrupt, to truncate traceback\u001b[0m\u001b[0;34m\u001b[0m\u001b[0;34m\u001b[0m\u001b[0m\n\u001b[0;32m--> 895\u001b[0;31m                 \u001b[0;32mraise\u001b[0m \u001b[0mKeyboardInterrupt\u001b[0m\u001b[0;34m(\u001b[0m\u001b[0;34m\"Interrupted by user\"\u001b[0m\u001b[0;34m)\u001b[0m \u001b[0;32mfrom\u001b[0m \u001b[0;32mNone\u001b[0m\u001b[0;34m\u001b[0m\u001b[0;34m\u001b[0m\u001b[0m\n\u001b[0m\u001b[1;32m    896\u001b[0m             \u001b[0;32mexcept\u001b[0m \u001b[0mException\u001b[0m \u001b[0;32mas\u001b[0m \u001b[0me\u001b[0m\u001b[0;34m:\u001b[0m\u001b[0;34m\u001b[0m\u001b[0;34m\u001b[0m\u001b[0m\n\u001b[1;32m    897\u001b[0m                 \u001b[0mself\u001b[0m\u001b[0;34m.\u001b[0m\u001b[0mlog\u001b[0m\u001b[0;34m.\u001b[0m\u001b[0mwarning\u001b[0m\u001b[0;34m(\u001b[0m\u001b[0;34m\"Invalid Message:\"\u001b[0m\u001b[0;34m,\u001b[0m \u001b[0mexc_info\u001b[0m\u001b[0;34m=\u001b[0m\u001b[0;32mTrue\u001b[0m\u001b[0;34m)\u001b[0m\u001b[0;34m\u001b[0m\u001b[0;34m\u001b[0m\u001b[0m\n",
            "\u001b[0;31mKeyboardInterrupt\u001b[0m: Interrupted by user"
          ]
        }
      ]
    },
    {
      "cell_type": "markdown",
      "source": [
        "## 第一回C問題"
      ],
      "metadata": {
        "id": "KH2sJ4Jzr268"
      }
    },
    {
      "cell_type": "code",
      "source": [
        "s = list(map(int,input().split()))\n",
        "s.sort(reverse=True)\n",
        "print(s[2])"
      ],
      "metadata": {
        "id": "o8y4FjNqrbIb",
        "colab": {
          "base_uri": "https://localhost:8080/",
          "height": 237
        },
        "outputId": "e714ce6b-666f-47ad-8154-d04a4acfc6ba"
      },
      "execution_count": null,
      "outputs": [
        {
          "name": "stdout",
          "output_type": "stream",
          "text": [
            "1 2 3 4 5 \n"
          ]
        },
        {
          "output_type": "error",
          "ename": "TypeError",
          "evalue": "ignored",
          "traceback": [
            "\u001b[0;31m---------------------------------------------------------------------------\u001b[0m",
            "\u001b[0;31mTypeError\u001b[0m                                 Traceback (most recent call last)",
            "\u001b[0;32m<ipython-input-17-83b4ceabaac0>\u001b[0m in \u001b[0;36m<cell line: 3>\u001b[0;34m()\u001b[0m\n\u001b[1;32m      1\u001b[0m \u001b[0ms\u001b[0m \u001b[0;34m=\u001b[0m \u001b[0mlist\u001b[0m\u001b[0;34m(\u001b[0m\u001b[0mmap\u001b[0m\u001b[0;34m(\u001b[0m\u001b[0mint\u001b[0m\u001b[0;34m,\u001b[0m\u001b[0minput\u001b[0m\u001b[0;34m(\u001b[0m\u001b[0;34m)\u001b[0m\u001b[0;34m.\u001b[0m\u001b[0msplit\u001b[0m\u001b[0;34m(\u001b[0m\u001b[0;34m)\u001b[0m\u001b[0;34m)\u001b[0m\u001b[0;34m)\u001b[0m\u001b[0;34m\u001b[0m\u001b[0;34m\u001b[0m\u001b[0m\n\u001b[1;32m      2\u001b[0m \u001b[0msort_s\u001b[0m \u001b[0;34m=\u001b[0m \u001b[0ms\u001b[0m\u001b[0;34m.\u001b[0m\u001b[0msort\u001b[0m\u001b[0;34m(\u001b[0m\u001b[0;34m)\u001b[0m\u001b[0;34m\u001b[0m\u001b[0;34m\u001b[0m\u001b[0m\n\u001b[0;32m----> 3\u001b[0;31m \u001b[0mprint\u001b[0m\u001b[0;34m(\u001b[0m\u001b[0msort_s\u001b[0m\u001b[0;34m[\u001b[0m\u001b[0;36m2\u001b[0m\u001b[0;34m]\u001b[0m\u001b[0;34m)\u001b[0m\u001b[0;34m\u001b[0m\u001b[0;34m\u001b[0m\u001b[0m\n\u001b[0m",
            "\u001b[0;31mTypeError\u001b[0m: 'NoneType' object is not subscriptable"
          ]
        }
      ]
    },
    {
      "cell_type": "markdown",
      "source": [
        "# 第一回D問題  \n",
        "\n",
        "## 方針\n",
        "countで1からNまでの数値の物を数えて0個の数値と2個の数値の物を出力する  \n",
        "\n",
        "**標準入力**  \n",
        "\n",
        "```python\n",
        "#標準入力\n",
        "6 7\n",
        "1 1 2\n",
        "1 2 3\n",
        "1 3 4\n",
        "1 1 5\n",
        "1 5 6\n",
        "3 1\n",
        "2 6  \n",
        "```"
      ],
      "metadata": {
        "id": "5F-pWG3PvHzW"
      }
    },
    {
      "cell_type": "markdown",
      "source": [
        "# 第一回E問題  \n",
        "## 方針  \n",
        "グラフを用いてごり押し"
      ],
      "metadata": {
        "id": "rpU1aocqqbO8"
      }
    },
    {
      "cell_type": "code",
      "source": [
        ", Q = map(int, input().split())\n",
        "# False の N x N の2次元配列を作る\n",
        "graph = []\n",
        "for i in range(0, N):\n",
        "    # 長さ N の False の1次元配列を作る\n",
        "    row = []\n",
        "    for j in range(0, N):\n",
        "        row.append(False)\n",
        "    # 長さ N の False の 1 次元配列を graph に追加する\n",
        "    graph.append(row)\n",
        "\n",
        "# Q 個の操作を受け取る\n",
        "for i in range(0, Q):\n",
        "    query = list(map(int, input().split()))\n",
        "    # 頂点番号は -1する\n",
        "    a = query[1] - 1\n",
        "\n",
        "    # 「フォロー」の操作の場合\n",
        "    if query[0] == 1:\n",
        "        # 頂点番号は -1する\n",
        "        b = query[2] - 1\n",
        "        # a から b へと辺を張る\n",
        "        graph[a][b] = True\n",
        "\n",
        "    # 「フォロー全返し」の操作の場合\n",
        "    if query[0] == 2:\n",
        "        # 全ての頂点を順番に見る。見ている頂点を vとする\n",
        "        for v in range(0, N):\n",
        "            # 頂点 v から頂点 a へと辺があるとき\n",
        "            if graph[v][a]:\n",
        "                # 頂点 a から頂点 v へと辺を張る\n",
        "                graph[a][v] = True\n",
        "\n",
        "    # 「フォローフォロー」の操作の場合\n",
        "    if query[0] == 3:\n",
        "        # 頂点 a から辺を張る予定の頂点のリスト\n",
        "        to_follow = []\n",
        "        # 全ての頂点を順番に見る。見ている頂点を vとする\n",
        "        for v in range(0, N):\n",
        "            # 頂点 a から頂点 v へと辺があるとき\n",
        "            if graph[a][v]:\n",
        "                # さらに全ての頂点を順番に見る。見ている頂点を w とする\n",
        "                for w in range(0, N):\n",
        "                    # 頂点 v から頂点 w へと辺があり、かつ w が a ではないとき\n",
        "                    if graph[v][w] and w != a:\n",
        "                        # あとで頂点 a から辺を張るために記録しておく\n",
        "                        to_follow.append(w)\n",
        "        # 頂点 a から辺を張る\n",
        "        for w in to_follow:\n",
        "            graph[a][w] = True\n",
        "\n",
        "# 隣接行列を全て出力する\n",
        "for i in range(0, N):\n",
        "    for j in range(0, N):\n",
        "        # i からj へと辺がある場合は Y を、辺がない場合は N を出力する。改行はしない\n",
        "        if graph[i][j]:\n",
        "            print(\"Y\", end=\"\")\n",
        "        else:\n",
        "            print(\"N\", end=\"\")\n",
        "    # N 文字出力するごとに改行する\n",
        "    print()\n"
      ],
      "metadata": {
        "id": "01Zq6A7lQzDR"
      },
      "execution_count": null,
      "outputs": []
    },
    {
      "cell_type": "markdown",
      "source": [
        "# 第一回F問題  \n",
        "## 方針  \n",
        "ChatGPTにやらせてみる"
      ],
      "metadata": {
        "id": "QuEZU1HWseTa"
      }
    },
    {
      "cell_type": "code",
      "source": [
        "def main():\n",
        "    S = input()\n",
        "    N = len(S)\n",
        "\n",
        "    v = []\n",
        "    buf = \"\"\n",
        "    big = 0\n",
        "\n",
        "    for i in range(N):\n",
        "        buf += S[i]\n",
        "        if S[i].isupper():\n",
        "            big += 1\n",
        "            if big % 2 == 0:\n",
        "                lower = buf.lower()\n",
        "                v.append((lower, buf))\n",
        "                buf = \"\"\n",
        "\n",
        "    v.sort()\n",
        "    ans = \"\".join([p[1] for p in v])\n",
        "    print(ans)\n",
        "\n",
        "if __name__ == \"__main__\":\n",
        "    main()\n"
      ],
      "metadata": {
        "colab": {
          "base_uri": "https://localhost:8080/"
        },
        "id": "jqSrZIHesoiZ",
        "outputId": "1015d1fb-a869-42a1-da8d-b4ed04160865"
      },
      "execution_count": null,
      "outputs": [
        {
          "output_type": "stream",
          "name": "stdout",
          "text": [
            "[]\n",
            "['Fi']\n",
            "['Fi']\n",
            "['Fi', 'sH']\n",
            "['Fi', 'sH']\n",
            "['Fi', 'sH', 'Do']\n",
            "['Fi', 'sH', 'Do']\n",
            "['Fi', 'sH', 'Do', 'GC']\n",
            "['Fi', 'sH', 'Do', 'GC']\n",
            "['Fi', 'sH', 'Do', 'GC', 'aT']\n",
            "['Fi', 'sH', 'Do', 'GC', 'aT']\n",
            "['Fi', 'sH', 'Do', 'GC', 'aT', 'AA']\n",
            "['Fi', 'sH', 'Do', 'GC', 'aT', 'AA']\n",
            "['Fi', 'sH', 'Do', 'GC', 'aT', 'AA', 'Aa']\n",
            "['Fi', 'sH', 'Do', 'GC', 'aT', 'AA', 'Aa']\n",
            "['Fi', 'sH', 'Do', 'GC', 'aT', 'AA', 'Aa', 'AA']\n",
            "['Fi', 'sH', 'Do', 'GC', 'aT', 'AA', 'Aa', 'AA']\n",
            "['Fi', 'sH', 'Do', 'GC', 'aT', 'AA', 'Aa', 'AA', 'bC']\n",
            "['Fi', 'sH', 'Do', 'GC', 'aT', 'AA', 'Aa', 'AA', 'bC']\n",
            "['Fi', 'sH', 'Do', 'GC', 'aT', 'AA', 'Aa', 'AA', 'bC', 'AC']\n",
            "AAAaAAACaTbCDoFiGCsH\n"
          ]
        }
      ]
    }
  ]
}